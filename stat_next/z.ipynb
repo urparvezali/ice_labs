{
 "cells": [
  {
   "cell_type": "code",
   "execution_count": 2,
   "metadata": {},
   "outputs": [],
   "source": [
    "import numpy as np\n",
    "import scipy.stats as stats\n",
    "\n",
    "\n",
    "sales = np.array([19.2, 18.4, 19.8, 20.2, 20.4, 19.0])\n",
    "n = len(sales)  # 6\n",
    "x_bar = np.mean(sales)  # 19.5\n",
    "s = stats.tstd(sales)  # 0.766\n",
    "a = 10/100  # 0.1\n",
    "df = len(sales)-1\n",
    "\n",
    "##### a #####\n",
    "# Hnot: miu = 20 and H1: miu != 20\n",
    "miu = 20\n",
    "t = (x_bar - miu)/(s/np.sqrt(n))  # -1.6\n",
    "ppf = stats.t.ppf(a/2, df)  # |1.644|\n",
    "# as t lies in the bound then the null hypothesis is failed to reject\n",
    "\n",
    "##### b #####\n",
    "# Hnot: miu = 20 and H1: miu > 20\n",
    "t = t  # -1.6\n",
    "ppf_r = stats.t.ppf(1-a, df)  # 1.28\n",
    "pvalue_l = 2*(1-stats.t.cdf(abs(t), len(sales)-1))\n",
    "# as t < ppf_r thus we fail to reject null hypothesis\n",
    "\n",
    "##### c #####\n",
    "# Hnot: miu = 20 and H1: miu < 20\n",
    "t = t  # -1.6\n",
    "ppf_l = stats.t.ppf(a, df)  # -1.28\n",
    "# as t < ppf_l thus we can reject the null hypthesis"
   ]
  }
 ],
 "metadata": {
  "kernelspec": {
   "display_name": "Python 3",
   "language": "python",
   "name": "python3"
  },
  "language_info": {
   "codemirror_mode": {
    "name": "ipython",
    "version": 3
   },
   "file_extension": ".py",
   "mimetype": "text/x-python",
   "name": "python",
   "nbconvert_exporter": "python",
   "pygments_lexer": "ipython3",
   "version": "3.11.8"
  }
 },
 "nbformat": 4,
 "nbformat_minor": 2
}
