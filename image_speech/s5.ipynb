{
 "cells": [
  {
   "cell_type": "markdown",
   "id": "87f9b170",
   "metadata": {
    "vscode": {
     "languageId": "markdown"
    }
   },
   "source": [
    "### Speaker Identification using MFCC and Cosine similarity\n",
    "#### Theory\n",
    "Speaker recognition is a process of identifying or verifying a speaker's identity using their voice. It involves extracting unique features from the audio signal, such as Mel Frequency Cepstral Coefficients (MFCCs), which capture the spectral properties of the audio. These features are then compared with reference data to calculate similarity scores, often using distance metrics like cosine similarity. The speaker with the highest similarity score is identified as the best match.\n",
    "\n",
    "#### Objectives:\n",
    "1. To record a speech sample and extract its MFCC features.\n",
    "2. To compare the extracted features with reference speaker data using cosine similarity.\n",
    "3. To identify the speaker with the highest similarity score from the reference dataset.\n",
    "4. To understand the process of feature extraction and similarity computation in speaker recognition."
   ]
  },
  {
   "cell_type": "code",
   "execution_count": null,
   "id": "e52a978f",
   "metadata": {},
   "outputs": [
    {
     "name": "stdout",
     "output_type": "stream",
     "text": [
      "Recording...\n",
      "Recording finished.\n",
      "Similarity with shanto.mp3: 0.9727\n",
      "Similarity with mamun.mp3: 0.9778\n",
      "Similarity with parvez.mp3: 0.9611\n",
      "\n",
      "Identified speaker: mamun.mp3\n"
     ]
    },
    {
     "name": "stderr",
     "output_type": "stream",
     "text": [
      "Note: Illegal Audio-MPEG-Header 0x3833332c at offset 99840.\n",
      "Note: Trying to resync...\n",
      "Note: Hit end of (available) data during resync.\n",
      "Note: Illegal Audio-MPEG-Header 0x3439372c at offset 202560.\n",
      "Note: Trying to resync...\n",
      "Note: Hit end of (available) data during resync.\n",
      "Note: Illegal Audio-MPEG-Header 0x31352c31 at offset 104640.\n",
      "Note: Trying to resync...\n",
      "Note: Hit end of (available) data during resync.\n"
     ]
    }
   ],
   "source": [
    "import os\n",
    "import re\n",
    "import numpy as np\n",
    "import librosa\n",
    "from scipy.spatial.distance import cosine\n",
    "import soundfile as sf\n",
    "import sounddevice as sd\n",
    "\n",
    "sample_rate = 16000\n",
    "n_mfcc = 13\n",
    "reference_folder = \"speaker_rec\"\n",
    "\n",
    "\n",
    "\n",
    "rec = sd.rec(5*16000, sample_rate, 1, dtype='int16')\n",
    "print(\"Recording...\")\n",
    "sd.wait()\n",
    "print(\"Recording finished.\")\n",
    "sf.write(\"speeches/speaker.wav\", rec, sample_rate)\n",
    "\n",
    "y_test, sr_test = librosa.load(\"speeches/speaker.wav\", sr=sample_rate)\n",
    "\n",
    "mfcc_test = librosa.feature.mfcc(y=y_test, sr=sample_rate, n_mfcc=n_mfcc)\n",
    "mfcc_test_mean = np.mean(mfcc_test, axis=1)\n",
    "\n",
    "scores = {}\n",
    "for file in os.listdir(reference_folder):\n",
    "\tspeaker_name = file\n",
    "\tref_path = os.path.join(reference_folder, file)\n",
    "\ty_ref, sr_ref = librosa.load(ref_path, sr=sample_rate)\n",
    "\t## resample to 16kHz if needed\n",
    "\tif sr_ref != sample_rate:\n",
    "\t\ty_ref = librosa.resample(y_ref, sr_ref, sample_rate)\n",
    "\tmfcc_ref = librosa.feature.mfcc(y=y_ref, sr=sample_rate, n_mfcc=n_mfcc)\n",
    "\tmfcc_ref_mean = np.mean(mfcc_ref, axis=1)\n",
    "\tsimilarity = 1 - cosine(mfcc_test_mean, mfcc_ref_mean)\n",
    "\tscores[speaker_name] = similarity\n",
    "\tprint(f\"Similarity with {speaker_name}: {similarity:.4f}\")\n",
    "\n",
    "best_match = max(scores, key=scores.get)\n",
    "print(f\"\\nIdentified speaker: {best_match}\")"
   ]
  }
 ],
 "metadata": {
  "kernelspec": {
   "display_name": ".venv",
   "language": "python",
   "name": "python3"
  },
  "language_info": {
   "codemirror_mode": {
    "name": "ipython",
    "version": 3
   },
   "file_extension": ".py",
   "mimetype": "text/x-python",
   "name": "python",
   "nbconvert_exporter": "python",
   "pygments_lexer": "ipython3",
   "version": "3.13.3"
  }
 },
 "nbformat": 4,
 "nbformat_minor": 5
}
