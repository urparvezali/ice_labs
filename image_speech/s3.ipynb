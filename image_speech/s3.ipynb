{
 "cells": [
  {
   "cell_type": "markdown",
   "id": "afcc88e3",
   "metadata": {},
   "source": [
    "### Real-Time Speech Recognition System\n",
    "#### Overview\n",
    "This notebook demonstrates a real-time speech recognition system using the `speech_recognition` library. The system captures audio input from a microphone, processes it, and converts it into text using Google's Speech Recognition API.\n",
    "\n",
    "#### Key Components\n",
    "- **Microphone Input**: Captures real-time audio data using the `speech_recognition.Microphone` class.\n",
    "- **Recognizer**: The `speech_recognition.Recognizer` object processes the audio and performs speech-to-text conversion.\n",
    "- **Dynamic Noise Adjustment**: The system adjusts for ambient noise to improve recognition accuracy.\n",
    "- **Continuous Listening**: The system listens continuously and outputs recognized text in real-time.\n",
    "- **Error Handling**: Handles cases where the audio is not understood or there is a request error.\n",
    "\n",
    "#### Features\n",
    "1. **Real-Time Speech Recognition**: Converts spoken words into text as you speak.\n",
    "2. **Dynamic Energy Threshold**: Automatically adjusts to background noise for better recognition.\n",
    "3. **Pause Threshold**: Configurable pause duration to detect when the user stops speaking.\n",
    "4. **Keyboard Interrupt**: Allows the user to stop the recognition process manually.\n",
    "\n",
    "#### Usage\n",
    "Run the code cell to start the speech recognition system. Speak into the microphone, and the recognized text will be displayed in real-time. Use `Ctrl+C` to stop the process."
   ]
  },
  {
   "cell_type": "code",
   "execution_count": 13,
   "id": "22d2faeb",
   "metadata": {},
   "outputs": [
    {
     "name": "stdout",
     "output_type": "stream",
     "text": [
      "Adjusting for background noise. Please wait...\n",
      "Listening...\n",
      "real time speech recognition\n",
      "Recognition API\n",
      "it's a robust API and free for all\n",
      "oh very good it work\n",
      "exit\n",
      "Exiting...\n"
     ]
    }
   ],
   "source": [
    "import speech_recognition as sr\n",
    "\n",
    "recognizer = sr.Recognizer()\n",
    "microphone = sr.Microphone()\n",
    "\n",
    "print(\"Adjusting for background noise. Please wait...\")\n",
    "with microphone as mic:\n",
    "\trecognizer.adjust_for_ambient_noise(mic, 2)\n",
    "\trecognizer.dynamic_energy_threshold = True\n",
    "\trecognizer.pause_threshold = 0.8\n",
    "\n",
    "\tprint(\"Listening...\")\n",
    "\twhile True:\n",
    "\t\taudio = recognizer.listen(microphone)\n",
    "\t\ttry:\n",
    "\t\t\ttext = recognizer.recognize_google(audio)\n",
    "\t\t\tprint(text)\n",
    "\t\t\tif \"exit\" == text.lower():\n",
    "\t\t\t\tprint(\"Exiting...\")\n",
    "\t\t\t\tbreak\n",
    "\t\texcept sr.UnknownValueError:\n",
    "\t\t\tprint(\"Sorry, could not understand audio.\")\n",
    "\t\texcept sr.RequestError as e:\n",
    "\t\t\tprint(\"Request error from Google Speech Recognition service:\", e)"
   ]
  }
 ],
 "metadata": {
  "kernelspec": {
   "display_name": ".venv",
   "language": "python",
   "name": "python3"
  },
  "language_info": {
   "codemirror_mode": {
    "name": "ipython",
    "version": 3
   },
   "file_extension": ".py",
   "mimetype": "text/x-python",
   "name": "python",
   "nbconvert_exporter": "python",
   "pygments_lexer": "ipython3",
   "version": "3.13.3"
  }
 },
 "nbformat": 4,
 "nbformat_minor": 5
}
