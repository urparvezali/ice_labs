{
 "cells": [
  {
   "cell_type": "code",
   "execution_count": 768,
   "metadata": {},
   "outputs": [],
   "source": [
    "import torch as tor\n",
    "import numpy as np\n",
    "import pandas as pd"
   ]
  },
  {
   "cell_type": "code",
   "execution_count": 769,
   "metadata": {},
   "outputs": [
    {
     "data": {
      "text/plain": [
       "(array([[640., 636., 630., ...,  nan,  nan,  nan],\n",
       "        [656., 640., 648., ...,  nan,  nan,  nan],\n",
       "        [572., 564., 550., ...,  nan,  nan,  nan],\n",
       "        ...,\n",
       "        [660., 640., 662., ...,  nan,  nan,  nan],\n",
       "        [748., 728., 744., ...,  nan,  nan,  nan],\n",
       "        [850., 796., 816., ...,  nan,  nan,  nan]], dtype=float32),\n",
       " array([  0.,   0.,   0.,   0.,   0.,   0.,   0.,   0.,   0.,   0.,   0.,\n",
       "          0.,   0.,   0.,   0.,   0.,   0.,   0.,   0.,   0.,   0.,   0.,\n",
       "          0.,   0.,   0.,   0.,   0., 500., 500., 500., 500., 500., 500.,\n",
       "        500., 500., 500., 500., 500., 500., 500., 500., 500., 500., 500.,\n",
       "        500., 500., 500., 500., 500., 500., 500., 500., 500., 500.],\n",
       "       dtype=float32))"
      ]
     },
     "execution_count": 769,
     "metadata": {},
     "output_type": "execute_result"
    }
   ],
   "source": [
    "data = pd.read_csv('signal/data.csv')\n",
    "inp = data.drop(columns=['subject ID', 'labels']).to_numpy().astype('float32')\n",
    "tar = np.array([0.0 if val=='normal' else 500.0 for val in data.get('labels')]).astype('float32')\n",
    "inp,tar"
   ]
  },
  {
   "cell_type": "code",
   "execution_count": 770,
   "metadata": {},
   "outputs": [],
   "source": [
    "nmean = np.nanmean(inp, axis=1)\n",
    "idxs = np.where(np.isnan(inp))\n",
    "inp[idxs] = np.take(nmean, idxs[0])"
   ]
  },
  {
   "cell_type": "code",
   "execution_count": 771,
   "metadata": {},
   "outputs": [
    {
     "name": "stdout",
     "output_type": "stream",
     "text": [
      "tensor([[640.0000, 636.0000, 630.0000,  ..., 672.6525, 672.6525, 672.6525],\n",
      "        [656.0000, 640.0000, 648.0000,  ..., 673.5938, 673.5938, 673.5938],\n",
      "        [572.0000, 564.0000, 550.0000,  ..., 572.6745, 572.6745, 572.6745],\n",
      "        ...,\n",
      "        [660.0000, 640.0000, 662.0000,  ..., 591.0847, 591.0847, 591.0847],\n",
      "        [748.0000, 728.0000, 744.0000,  ..., 692.9908, 692.9908, 692.9908],\n",
      "        [850.0000, 796.0000, 816.0000,  ..., 800.4389, 800.4389, 800.4389]])\n",
      "tensor([  0.,   0.,   0.,   0.,   0.,   0.,   0.,   0.,   0.,   0.,   0.,   0.,\n",
      "          0.,   0.,   0.,   0.,   0.,   0.,   0.,   0.,   0.,   0.,   0.,   0.,\n",
      "          0.,   0.,   0., 500., 500., 500., 500., 500., 500., 500., 500., 500.,\n",
      "        500., 500., 500., 500., 500., 500., 500., 500., 500., 500., 500., 500.,\n",
      "        500., 500., 500., 500., 500., 500.])\n"
     ]
    }
   ],
   "source": [
    "inputs = tor.from_numpy(inp)\n",
    "targets = tor.from_numpy(tar)\n",
    "print(inputs)\n",
    "print(targets)"
   ]
  },
  {
   "cell_type": "code",
   "execution_count": 772,
   "metadata": {},
   "outputs": [
    {
     "name": "stdout",
     "output_type": "stream",
     "text": [
      "torch.Size([1, 682]) torch.Size([1])\n"
     ]
    }
   ],
   "source": [
    "w = tor.randn(1, inputs.shape[1], requires_grad=True)\n",
    "b = tor.randn(1, requires_grad=True)\n",
    "print(w.shape,b.shape)"
   ]
  },
  {
   "cell_type": "code",
   "execution_count": 773,
   "metadata": {},
   "outputs": [],
   "source": [
    "def model(x):\n",
    "\treturn x @ w.t() + b\n",
    "# print(x.shape, w.t().shape, b.shape)"
   ]
  },
  {
   "cell_type": "code",
   "execution_count": 774,
   "metadata": {},
   "outputs": [
    {
     "data": {
      "text/plain": [
       "tensor([[ 2722.6187],\n",
       "        [  402.6663],\n",
       "        [ 2669.6733],\n",
       "        [ 1116.3335],\n",
       "        [ 1248.1371],\n",
       "        [-1419.0552],\n",
       "        [  468.1733],\n",
       "        [ 1499.1056],\n",
       "        [ 1054.4137],\n",
       "        [ 3244.7092],\n",
       "        [ 2080.7332],\n",
       "        [ 3560.9919],\n",
       "        [  784.8591],\n",
       "        [ 4014.1396],\n",
       "        [ 1555.5674],\n",
       "        [ 1710.2533],\n",
       "        [ 3388.4011],\n",
       "        [ 3126.4163],\n",
       "        [  796.0776],\n",
       "        [ 2237.9006],\n",
       "        [ 2438.1243],\n",
       "        [ 2100.6233],\n",
       "        [ 2437.4016],\n",
       "        [ 2686.1111],\n",
       "        [  490.7683],\n",
       "        [ 4241.0298],\n",
       "        [  820.5071],\n",
       "        [ 1575.8617],\n",
       "        [ 1303.8134],\n",
       "        [ 2669.6733],\n",
       "        [ -841.4063],\n",
       "        [ -712.6915],\n",
       "        [  886.2231],\n",
       "        [ 1247.4097],\n",
       "        [ 3640.2283],\n",
       "        [ 1619.4357],\n",
       "        [ 3177.8811],\n",
       "        [ -252.5752],\n",
       "        [ 1776.8501],\n",
       "        [ 2804.3379],\n",
       "        [ -823.9207],\n",
       "        [ 1451.2012],\n",
       "        [ 1017.7319],\n",
       "        [ -697.8168],\n",
       "        [ 3005.3115],\n",
       "        [ 1205.9572],\n",
       "        [ 2009.7305],\n",
       "        [ 1786.1853],\n",
       "        [ 1008.2901],\n",
       "        [ 1417.0416],\n",
       "        [  664.0340],\n",
       "        [  648.1115],\n",
       "        [ 2929.6494],\n",
       "        [ 1486.5658]], grad_fn=<AddBackward0>)"
      ]
     },
     "execution_count": 774,
     "metadata": {},
     "output_type": "execute_result"
    }
   ],
   "source": [
    "preds = model(inputs)\n",
    "preds"
   ]
  },
  {
   "cell_type": "code",
   "execution_count": 775,
   "metadata": {},
   "outputs": [
    {
     "name": "stdout",
     "output_type": "stream",
     "text": [
      "tensor([  0.,   0.,   0.,   0.,   0.,   0.,   0.,   0.,   0.,   0.,   0.,   0.,\n",
      "          0.,   0.,   0.,   0.,   0.,   0.,   0.,   0.,   0.,   0.,   0.,   0.,\n",
      "          0.,   0.,   0., 500., 500., 500., 500., 500., 500., 500., 500., 500.,\n",
      "        500., 500., 500., 500., 500., 500., 500., 500., 500., 500., 500., 500.,\n",
      "        500., 500., 500., 500., 500., 500.])\n"
     ]
    }
   ],
   "source": [
    "print(targets)"
   ]
  },
  {
   "cell_type": "code",
   "execution_count": 776,
   "metadata": {},
   "outputs": [],
   "source": [
    "def mse(t1, t2):\n",
    "\tdiff = t1 - t2\n",
    "\treturn tor.sum(diff ** 2) / diff.numel()"
   ]
  },
  {
   "cell_type": "code",
   "execution_count": 777,
   "metadata": {},
   "outputs": [
    {
     "data": {
      "text/plain": [
       "tensor(3586280.5000, grad_fn=<DivBackward0>)"
      ]
     },
     "execution_count": 777,
     "metadata": {},
     "output_type": "execute_result"
    }
   ],
   "source": [
    "loss = mse(preds, targets)\n",
    "loss"
   ]
  },
  {
   "cell_type": "code",
   "execution_count": 778,
   "metadata": {},
   "outputs": [],
   "source": [
    "for i in range(100):\n",
    "\tpreds = model(inputs)\n",
    "\tloss = mse(preds, targets)\n",
    "\tloss.backward()\n",
    "\twith tor.no_grad():\n",
    "\t\tw-=w.grad * 1e-10\n",
    "\t\tb-=b.grad * 1e-10\n",
    "\t\tw.grad.zero_()\n",
    "\t\tb.grad.zero_()"
   ]
  },
  {
   "cell_type": "code",
   "execution_count": 779,
   "metadata": {},
   "outputs": [
    {
     "data": {
      "text/plain": [
       "tensor(1656270.8750, grad_fn=<DivBackward0>)"
      ]
     },
     "execution_count": 779,
     "metadata": {},
     "output_type": "execute_result"
    }
   ],
   "source": [
    "preds = model(inputs)\n",
    "loss = mse(preds, targets)\n",
    "loss"
   ]
  },
  {
   "cell_type": "code",
   "execution_count": 780,
   "metadata": {},
   "outputs": [
    {
     "data": {
      "text/plain": [
       "tensor([[ 1.3775e+03],\n",
       "        [-9.4324e+02],\n",
       "        [ 1.5237e+03],\n",
       "        [-4.4560e+02],\n",
       "        [ 9.7102e+00],\n",
       "        [-2.9152e+03],\n",
       "        [-9.4935e+02],\n",
       "        [-5.4649e+01],\n",
       "        [-2.8419e+02],\n",
       "        [ 1.8148e+03],\n",
       "        [ 5.3967e+02],\n",
       "        [ 1.9758e+03],\n",
       "        [-6.6968e+02],\n",
       "        [ 2.4739e+03],\n",
       "        [ 2.4451e+01],\n",
       "        [ 3.8382e+02],\n",
       "        [ 2.0379e+03],\n",
       "        [ 1.7129e+03],\n",
       "        [-4.1996e+02],\n",
       "        [ 4.7576e+02],\n",
       "        [ 1.1431e+03],\n",
       "        [ 7.8134e+02],\n",
       "        [ 9.5483e+02],\n",
       "        [ 1.1772e+03],\n",
       "        [-7.7496e+02],\n",
       "        [ 2.8173e+03],\n",
       "        [-7.2367e+02],\n",
       "        [ 2.4212e+02],\n",
       "        [ 2.0297e+00],\n",
       "        [ 1.5237e+03],\n",
       "        [-2.1361e+03],\n",
       "        [-1.9897e+03],\n",
       "        [-4.1399e+02],\n",
       "        [-1.3003e+01],\n",
       "        [ 2.0650e+03],\n",
       "        [ 3.2630e+02],\n",
       "        [ 1.7856e+03],\n",
       "        [-1.6674e+03],\n",
       "        [ 2.5570e+02],\n",
       "        [ 1.5261e+03],\n",
       "        [-2.2353e+03],\n",
       "        [ 9.1850e+01],\n",
       "        [-9.8958e+01],\n",
       "        [-1.9692e+03],\n",
       "        [ 1.6470e+03],\n",
       "        [ 5.5378e+01],\n",
       "        [ 4.9269e+02],\n",
       "        [ 6.0325e+02],\n",
       "        [-1.7151e+02],\n",
       "        [-2.0696e+01],\n",
       "        [-8.3565e+02],\n",
       "        [-5.3197e+02],\n",
       "        [ 1.5444e+03],\n",
       "        [-1.1204e+02]], grad_fn=<AddBackward0>)"
      ]
     },
     "execution_count": 780,
     "metadata": {},
     "output_type": "execute_result"
    }
   ],
   "source": [
    "preds"
   ]
  },
  {
   "cell_type": "code",
   "execution_count": 781,
   "metadata": {},
   "outputs": [
    {
     "data": {
      "text/plain": [
       "tensor([  0.,   0.,   0.,   0.,   0.,   0.,   0.,   0.,   0.,   0.,   0.,   0.,\n",
       "          0.,   0.,   0.,   0.,   0.,   0.,   0.,   0.,   0.,   0.,   0.,   0.,\n",
       "          0.,   0.,   0., 500., 500., 500., 500., 500., 500., 500., 500., 500.,\n",
       "        500., 500., 500., 500., 500., 500., 500., 500., 500., 500., 500., 500.,\n",
       "        500., 500., 500., 500., 500., 500.])"
      ]
     },
     "execution_count": 781,
     "metadata": {},
     "output_type": "execute_result"
    }
   ],
   "source": [
    "targets"
   ]
  }
 ],
 "metadata": {
  "kernelspec": {
   "display_name": "Python 3",
   "language": "python",
   "name": "python3"
  },
  "language_info": {
   "codemirror_mode": {
    "name": "ipython",
    "version": 3
   },
   "file_extension": ".py",
   "mimetype": "text/x-python",
   "name": "python",
   "nbconvert_exporter": "python",
   "pygments_lexer": "ipython3",
   "version": "3.12.6"
  }
 },
 "nbformat": 4,
 "nbformat_minor": 2
}
